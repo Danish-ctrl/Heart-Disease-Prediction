{
 "cells": [
  {
   "cell_type": "code",
   "execution_count": 137,
   "metadata": {},
   "outputs": [],
   "source": [
    "# importing all the required packages which include Tensorflow and Keras\n",
    "\n",
    "\n",
    "import tensorflow as tf\n",
    "import keras"
   ]
  },
  {
   "cell_type": "code",
   "execution_count": 138,
   "metadata": {},
   "outputs": [],
   "source": [
    "from keras.models import Sequential\n",
    "from keras.layers import Conv2D\n",
    "from keras.layers import MaxPooling2D\n",
    "from keras.layers import Flatten\n",
    "from keras.layers import Dense\n"
   ]
  },
  {
   "cell_type": "code",
   "execution_count": 139,
   "metadata": {},
   "outputs": [],
   "source": [
    "# selecting the classifier there are two option either go with sequential or functional\n",
    "classifier = Sequential()\n"
   ]
  },
  {
   "cell_type": "code",
   "execution_count": 140,
   "metadata": {},
   "outputs": [],
   "source": [
    "#adding convolutional and Maxpooling layer with the activation center relu\n",
    "#input shape we are taking as 64*64 with RGB\n",
    "#we are having 32 different filetrs and sliding size is 3*3\n",
    "\n",
    "classifier.add(Conv2D(32, (3, 3), input_shape = (64, 64, 3), activation = 'relu'))"
   ]
  },
  {
   "cell_type": "code",
   "execution_count": 141,
   "metadata": {},
   "outputs": [],
   "source": [
    "#maxpooling is having slide size 2*2\n",
    "classifier.add(MaxPooling2D(pool_size = (2, 2)))\n"
   ]
  },
  {
   "cell_type": "code",
   "execution_count": 142,
   "metadata": {},
   "outputs": [],
   "source": [
    "#adding multiple layers for multilayer feed back neural network\n",
    "classifier.add(Conv2D(32, (3, 3), activation = 'relu'))\n",
    "classifier.add(MaxPooling2D(pool_size = (2, 2)))\n"
   ]
  },
  {
   "cell_type": "code",
   "execution_count": 143,
   "metadata": {},
   "outputs": [],
   "source": [
    "#converting the extracted features in one dimensional array\n",
    "classifier.add(Flatten())\n"
   ]
  },
  {
   "cell_type": "code",
   "execution_count": 144,
   "metadata": {},
   "outputs": [],
   "source": [
    "#densing the feature to make classified clustering\n",
    "classifier.add(Dense(activation = 'relu',units=128))\n",
    "classifier.add(Dense(activation = 'sigmoid',units=1))\n"
   ]
  },
  {
   "cell_type": "code",
   "execution_count": 145,
   "metadata": {},
   "outputs": [],
   "source": [
    "classifier.compile(optimizer = 'adam', loss = 'binary_crossentropy', metrics = ['accuracy'])\n"
   ]
  },
  {
   "cell_type": "code",
   "execution_count": 146,
   "metadata": {},
   "outputs": [],
   "source": [
    "#importing the images in training and testing objects with some preprocesing \n",
    "from keras.preprocessing.image import ImageDataGenerator\n"
   ]
  },
  {
   "cell_type": "code",
   "execution_count": 147,
   "metadata": {},
   "outputs": [],
   "source": [
    "train_datagen = ImageDataGenerator(rescale = 1./255,\n",
    "                                   shear_range = 0.2,\n",
    "                                   zoom_range = 0.2,\n",
    "                                   horizontal_flip = True)\n"
   ]
  },
  {
   "cell_type": "code",
   "execution_count": 148,
   "metadata": {},
   "outputs": [],
   "source": [
    "test_datagen = ImageDataGenerator(rescale = 1./255)\n"
   ]
  },
  {
   "cell_type": "code",
   "execution_count": 149,
   "metadata": {},
   "outputs": [
    {
     "name": "stdout",
     "output_type": "stream",
     "text": [
      "/home/telraswa/Desktop/Swapnil/Pallavi/Deep_Learning/CNN\n"
     ]
    }
   ],
   "source": [
    "import os \n",
    "os.getcwd()\n",
    "os.chdir('/home/telraswa/Desktop/Swapnil/Pallavi/Deep_Learning/CNN')\n",
    "print(os.getcwd())"
   ]
  },
  {
   "cell_type": "code",
   "execution_count": 150,
   "metadata": {},
   "outputs": [
    {
     "name": "stdout",
     "output_type": "stream",
     "text": [
      "Found 539 images belonging to 2 classes.\n"
     ]
    }
   ],
   "source": [
    "training_set = train_datagen.flow_from_directory('/home/telraswa/Desktop/Swapnil/Pallavi/Deep_Learning/CNN/Train',\n",
    "                                                 target_size = (64, 64),\n",
    "                                                 batch_size = 32,\n",
    "                                                 class_mode = 'binary')\n"
   ]
  },
  {
   "cell_type": "code",
   "execution_count": 151,
   "metadata": {},
   "outputs": [
    {
     "name": "stdout",
     "output_type": "stream",
     "text": [
      "Found 44 images belonging to 2 classes.\n"
     ]
    }
   ],
   "source": [
    "test_set = test_datagen.flow_from_directory('/home/telraswa/Desktop/Swapnil/Pallavi/Deep_Learning/CNN/Test',\n",
    "                                            target_size = (64, 64),\n",
    "                                            batch_size = 32,\n",
    "                                            class_mode = 'binary')\n"
   ]
  },
  {
   "cell_type": "code",
   "execution_count": 152,
   "metadata": {},
   "outputs": [
    {
     "name": "stdout",
     "output_type": "stream",
     "text": [
      "Epoch 1/10\n",
      "17/17 [==============================] - 4s 246ms/step - loss: 0.5421 - acc: 0.7955 - val_loss: 1.5664 - val_acc: 0.5000\n",
      "Epoch 2/10\n",
      "17/17 [==============================] - 4s 235ms/step - loss: 0.5423 - acc: 0.8026 - val_loss: 1.1679 - val_acc: 0.5000\n",
      "Epoch 3/10\n",
      "17/17 [==============================] - 4s 228ms/step - loss: 0.5020 - acc: 0.8013 - val_loss: 0.9968 - val_acc: 0.5000\n",
      "Epoch 4/10\n",
      "17/17 [==============================] - 4s 231ms/step - loss: 0.4951 - acc: 0.8016 - val_loss: 1.1710 - val_acc: 0.5000\n",
      "Epoch 5/10\n",
      "17/17 [==============================] - 4s 232ms/step - loss: 0.4881 - acc: 0.8022 - val_loss: 1.1218 - val_acc: 0.5000\n",
      "Epoch 6/10\n",
      "17/17 [==============================] - 4s 233ms/step - loss: 0.4731 - acc: 0.8010 - val_loss: 1.1291 - val_acc: 0.5000\n",
      "Epoch 7/10\n",
      "17/17 [==============================] - 4s 234ms/step - loss: 0.4731 - acc: 0.8022 - val_loss: 1.1073 - val_acc: 0.5000\n",
      "Epoch 8/10\n",
      "17/17 [==============================] - 4s 231ms/step - loss: 0.4756 - acc: 0.8019 - val_loss: 1.1974 - val_acc: 0.5000\n",
      "Epoch 9/10\n",
      "17/17 [==============================] - 4s 233ms/step - loss: 0.4614 - acc: 0.8016 - val_loss: 1.3262 - val_acc: 0.5000\n",
      "Epoch 10/10\n",
      "17/17 [==============================] - 4s 231ms/step - loss: 0.4589 - acc: 0.8038 - val_loss: 1.3316 - val_acc: 0.5000\n"
     ]
    },
    {
     "data": {
      "text/plain": [
       "<keras.callbacks.History at 0x7f1db9382e50>"
      ]
     },
     "execution_count": 152,
     "metadata": {},
     "output_type": "execute_result"
    }
   ],
   "source": [
    "# setting some parameters to feed back neural network \n",
    "\n",
    "classifier.fit_generator(training_set, steps_per_epoch=None, epochs=10, verbose=1, callbacks=None, validation_data=test_set, validation_steps=None, class_weight=None, max_queue_size=10, workers=1, use_multiprocessing=False, shuffle=True, initial_epoch=0)\n",
    " "
   ]
  },
  {
   "cell_type": "code",
   "execution_count": 153,
   "metadata": {},
   "outputs": [],
   "source": [
    "#loading validation image\n",
    "import numpy as np\n",
    "from keras.preprocessing import image"
   ]
  },
  {
   "cell_type": "code",
   "execution_count": 196,
   "metadata": {},
   "outputs": [
    {
     "data": {
      "image/png": "[encoded data removed]",
      "text/plain": [
       "<PIL.Image.Image image mode=RGB size=64x64 at 0x7F1DB920E150>"
      ]
     },
     "execution_count": 196,
     "metadata": {},
     "output_type": "execute_result"
    }
   ],
   "source": [
    "validation_image = image.load_img('/home/telraswa/Desktop/Swapnil/Pallavi/Deep_Learning/validation/45.jpg', target_size = (64, 64))\n",
    "validation_image\n"
   ]
  },
  {
   "cell_type": "code",
   "execution_count": 197,
   "metadata": {},
   "outputs": [],
   "source": [
    "#converting image to numeric matrix \n",
    "validation_image = image.img_to_array(validation_image)\n",
    "\n"
   ]
  },
  {
   "cell_type": "code",
   "execution_count": 198,
   "metadata": {},
   "outputs": [
    {
     "data": {
      "text/plain": [
       "array([[[[  0.,  13., 109.],\n",
       "         [ 69., 117., 193.],\n",
       "         [ 45., 107., 218.],\n",
       "         ...,\n",
       "         [ 37., 130., 233.],\n",
       "         [ 46., 121., 222.],\n",
       "         [ 74., 127., 223.]],\n",
       "\n",
       "        [[ 65., 120., 221.],\n",
       "         [169., 124.,  57.],\n",
       "         [ 21.,   1.,   0.],\n",
       "         ...,\n",
       "         [ 56.,  37.,  23.],\n",
       "         [ 37.,  20.,   2.],\n",
       "         [ 10.,   0.,   0.]],\n",
       "\n",
       "        [[ 60., 120., 192.],\n",
       "         [227., 185., 145.],\n",
       "         [ 14.,   0.,   0.],\n",
       "         ...,\n",
       "         [ 68.,  43.,  12.],\n",
       "         [ 29.,  12.,   0.],\n",
       "         [230., 188., 138.]],\n",
       "\n",
       "        ...,\n",
       "\n",
       "        [[ 56., 126., 221.],\n",
       "         [  0.,   0.,   0.],\n",
       "         [  0.,   0.,   0.],\n",
       "         ...,\n",
       "         [  0.,   0.,   0.],\n",
       "         [  0.,   0.,   0.],\n",
       "         [  0.,   0.,   0.]],\n",
       "\n",
       "        [[ 56., 126., 221.],\n",
       "         [  0.,   0.,   0.],\n",
       "         [  0.,   0.,   0.],\n",
       "         ...,\n",
       "         [  0.,   0.,   0.],\n",
       "         [  0.,   0.,   0.],\n",
       "         [  0.,   0.,   0.]],\n",
       "\n",
       "        [[ 59., 125., 221.],\n",
       "         [  0.,   0.,   0.],\n",
       "         [  0.,   0.,   0.],\n",
       "         ...,\n",
       "         [  0.,   0.,   0.],\n",
       "         [  0.,   0.,   0.],\n",
       "         [  0.,   0.,   0.]]]], dtype=float32)"
      ]
     },
     "execution_count": 198,
     "metadata": {},
     "output_type": "execute_result"
    }
   ],
   "source": [
    "validation_image = np.expand_dims(validation_image, axis = 0)\n",
    "validation_image\n"
   ]
  },
  {
   "cell_type": "code",
   "execution_count": 199,
   "metadata": {},
   "outputs": [
    {
     "data": {
      "text/plain": [
       "array([[0.]], dtype=float32)"
      ]
     },
     "execution_count": 199,
     "metadata": {},
     "output_type": "execute_result"
    }
   ],
   "source": [
    "result = classifier.predict(validation_image)\n",
    "result\n"
   ]
  },
  {
   "cell_type": "code",
   "execution_count": 200,
   "metadata": {},
   "outputs": [
    {
     "data": {
      "text/plain": [
       "{'Abnormal': 0, 'Normal': 1}"
      ]
     },
     "execution_count": 200,
     "metadata": {},
     "output_type": "execute_result"
    }
   ],
   "source": [
    "#finding the indices from train images for different classes\n",
    "training_set.class_indices\n"
   ]
  },
  {
   "cell_type": "code",
   "execution_count": 201,
   "metadata": {},
   "outputs": [],
   "source": [
    "if result[0][0] == 1:\n",
    "    prediction = 'Normal'\n",
    "else:\n",
    "    prediction = 'Abnormal'"
   ]
  },
  {
   "cell_type": "code",
   "execution_count": 195,
   "metadata": {},
   "outputs": [
    {
     "name": "stdout",
     "output_type": "stream",
     "text": [
      "('Condition of patient is :', 'Abnormal')\n"
     ]
    }
   ],
   "source": [
    "#final prediction \n",
    "print(\"Condition of patient is :\",prediction)\n"
   ]
  },
  {
   "cell_type": "code",
   "execution_count": null,
   "metadata": {},
   "outputs": [],
   "source": []
  },
  {
   "cell_type": "code",
   "execution_count": null,
   "metadata": {},
   "outputs": [],
   "source": []
  },
  {
   "cell_type": "code",
   "execution_count": null,
   "metadata": {},
   "outputs": [],
   "source": []
  }
 ],
 "metadata": {
  "kernelspec": {
   "display_name": "Python 2",
   "language": "python",
   "name": "python2"
  },
  "language_info": {
   "codemirror_mode": {
    "name": "ipython",
    "version": 2
   },
   "file_extension": ".py",
   "mimetype": "text/x-python",
   "name": "python",
   "nbconvert_exporter": "python",
   "pygments_lexer": "ipython2",
   "version": "2.7.12"
  }
 },
 "nbformat": 4,
 "nbformat_minor": 2
}
